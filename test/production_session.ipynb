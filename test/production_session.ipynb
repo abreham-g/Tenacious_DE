{
 "cells": [
  {
   "cell_type": "code",
   "execution_count": 2,
   "id": "9fd0deac",
   "metadata": {},
   "outputs": [],
   "source": [
    "import re\n",
    "import sqlite3\n",
    "import logging\n",
    "import warnings\n",
    "import pandas as pd\n",
    "import seaborn as sns \n",
    "sns.set_style('whitegrid')\n",
    "warnings.filterwarnings('ignore')"
   ]
  },
  {
   "cell_type": "code",
   "execution_count": 4,
   "id": "5f794623",
   "metadata": {},
   "outputs": [
    {
     "ename": "IndentationError",
     "evalue": "unindent does not match any outer indentation level (<tokenize>, line 43)",
     "output_type": "error",
     "traceback": [
      "\u001b[0;36m  File \u001b[0;32m<tokenize>:43\u001b[0;36m\u001b[0m\n\u001b[0;31m    except Exception as e:\u001b[0m\n\u001b[0m    ^\u001b[0m\n\u001b[0;31mIndentationError\u001b[0m\u001b[0;31m:\u001b[0m unindent does not match any outer indentation level\n"
     ]
    }
   ],
   "source": [
    "import logging\n",
    "import sqlite3\n",
    "import pandas as pd\n",
    "\n",
    "class FeatchData:\n",
    "    def __init__(self, db_path):\n",
    "        self.db_path = db_path\n",
    "        self.conn = None\n",
    "        self.cursor = None\n",
    "    \n",
    "    def connect(self):\n",
    "        try:\n",
    "            self.conn = sqlite3.connect(self.db_path)\n",
    "            self.cursor = self.conn.cursor()\n",
    "            logging.info(\"Connected to the SQLite database\")\n",
    "        except sqlite3.Error as e:\n",
    "            logging.error(f\"Error connecting to the SQLite database: {e}\")\n",
    "            raise\n",
    "    \n",
    "    def fetch_data(self, table_name):\n",
    "        try:\n",
    "            query = f'SELECT * FROM {table_name}'\n",
    "            self.cursor.execute(query)\n",
    "            rows = self.cursor.fetchall()\n",
    "            logging.info(\"Data fetched successfully\")\n",
    "            return rows\n",
    "        except sqlite3.Error as e:\n",
    "            logging.error(f\"Error fetching data: {e}\")\n",
    "            raise\n",
    "    \n",
    "    def create_dataframe(self, rows):\n",
    "        try:\n",
    "            # Modify this part based on the structure of your table\n",
    "            # For demonstration purposes, assuming the table has columns 'Description' and 'Name'\n",
    "            description_list = [row[1] for row in rows]\n",
    "            name_list = [row[2] for row in rows]\n",
    "            \n",
    "            data_df = pd.DataFrame({'Description': description_list, 'Name': name_list})\n",
    "            logging.inInvalid Notebook\n",
    "The Notebook Does Not Appear to Be Valid JSON\n",
    "Using nbformat v5.9.2 and nbconvert v7.3.1fo(\"DataFrame created successfully\")\n",
    "            return data_df\n",
    "        except Exception as e:\n",
    "            logging.error(f\"Error creating DataFrame: {e}\")\n",
    "            raise\n",
    "    \n",
    "    def close_connection(self):\n",
    "        try:\n",
    "            self.cursor.close()\n",
    "            self.conn.close()\n",
    "            logging.info(\"Database connection closed\")\n",
    "        except sqlite3.Error as e:\n",
    "            logging.error(f\"Error closing database connection: {e}\")\n",
    "            raise\n",
    "\n",
    "logging.basicConfig(level=logging.INFO, format='%(asctime)s - %(levelname)s - %(message)s')\n",
    "\n",
    "try:\n",
    "    db = FeatchData('../scripts/Tenacious.db')\n",
    "    # Connect to the SQLite database\n",
    "    db.connect()\n",
    "    # Fetch the data from a specific table (modify the table name accordingly)\n",
    "    table_name = 'Episode_Production_Process_Season'\n",
    "    rows = db.fetch_data(table_name)\n",
    "    final_df = db.create_dataframe(rows)\n",
    "    db.close_connection()\n",
    "\n",
    "except Exception as e:\n",
    "    logging.error(f\"An error occurred: {e}\")\n"
   ]
  },
  {
   "cell_type": "code",
   "execution_count": null,
   "id": "cf678215",
   "metadata": {},
   "outputs": [],
   "source": []
  }
 ],
 "metadata": {
  "kernelspec": {
   "display_name": "Python 3 (ipykernel)",
   "language": "python",
   "name": "python3"
  },
  "language_info": {
   "codemirror_mode": {
    "name": "ipython",
    "version": 3
   },
   "file_extension": ".py",
   "mimetype": "text/x-python",
   "name": "python",
   "nbconvert_exporter": "python",
   "pygments_lexer": "ipython3",
   "version": "3.8.10"
  }
 },
 "nbformat": 4,
 "nbformat_minor": 5
}
